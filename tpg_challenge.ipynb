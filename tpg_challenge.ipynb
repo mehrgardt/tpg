{
 "cells": [
  {
   "attachments": {},
   "cell_type": "markdown",
   "metadata": {},
   "source": [
    "## This Notebook is structured into the following sections\n",
    "\n",
    "Section 1: A classification model to predict the product category\n",
    "This model consists of two parts: \n",
    "`a.` train\n",
    "and \n",
    "`b.` predict\n",
    "\n",
    "Section 2: A model to predict the customer ratings\n",
    "This model consists of two parts: \n",
    "`a.` train\n",
    "and \n",
    "`b.` predict\n",
    "\n",
    "Section 3: An engine that recommends top 5 products (i.e. product_id) to the customers in the `test` dataset\n",
    "This model consists of two parts: \n",
    "`a.` train\n",
    "and \n",
    "`b.` predict\n",
    "\n",
    "Section 4: Data Analytics \n",
    "This section presents insights found in the dataset\n",
    "\n",
    "The .config folder includes a requirements.txt file to run all code including analytics on a local machine\n",
    "\n",
    "## Deployment\n",
    "The .build folder includes python files to train and predict the data separately. The training files save the model and pipeline while the predict files load the model/pipeline and predict the labels. The datasets `dataset_en_train.json` and `dataset_en_test.json` are included for convenience.\n",
    "\n",
    "A `requirements.txt` file is included deploy the machine learning and prediction models, excluding the dependencies required for analytics.\n",
    "\n",
    "An environment `environment.tar.gz` to deploy on spark is provided on Dropbox.\n",
    "https://www.dropbox.com/s/acgmy4zckj3q5rm/environment.tar.gz?dl=0\n",
    "\n",
    "The application can be submitted by using spark-submit --archives environment.tar.gz --files dataset_en_train.json train_predict.py\n",
    "\n",
    "\n"
   ]
  },
  {
   "attachments": {},
   "cell_type": "markdown",
   "metadata": {},
   "source": [
    "### Section 1A Product category train"
   ]
  },
  {
   "cell_type": "code",
   "execution_count": 1,
   "metadata": {},
   "outputs": [
    {
     "name": "stdout",
     "output_type": "stream",
     "text": [
      "Spark NLP version, expecting 4.3.1:   4.3.1\n",
      "Apache Spark version, expecting 3.2.3:   3.2.3\n"
     ]
    }
   ],
   "source": [
    "# Imports\n",
    "import sparknlp\n",
    "\n",
    "from sparknlp.base import *\n",
    "from sparknlp.common import *\n",
    "from sparknlp.annotator import *\n",
    "\n",
    "from pyspark.ml import Pipeline\n",
    "from pyspark.ml.feature import CountVectorizer, HashingTF, IDF, OneHotEncoder, StringIndexer, VectorAssembler, SQLTransformer\n",
    "from pyspark.ml.classification import LogisticRegression, LogisticRegressionModel\n",
    "from pyspark.ml.evaluation import MulticlassClassificationEvaluator\n",
    "from pyspark.sql.functions import concat,col\n",
    "\n",
    "# Start sparknlp\n",
    "spark = sparknlp.start()\n",
    "\n",
    "print(\"Spark NLP version, expecting 4.3.1:  \", sparknlp.version())\n",
    "print(\"Apache Spark version, expecting 3.2.3:  \", spark.version)\n",
    "\n",
    "# Load dataset\n",
    "train = spark.read.json(\"dataset_en_train.json\")\n",
    "\n",
    "# Samples per class for rebalancing\n",
    "class_samples = 5000\n",
    "\n",
    "# Resample each class to the size of the class samples with replacement\n",
    "train_resampled_s = []\n",
    "for c in train.select(\"product_category\").distinct().collect():\n",
    "    classDF = train.filter(train[\"product_category\"] == c[0])\n",
    "    train_resampled = classDF.sample(True, class_samples / classDF.count(), seed=42)\n",
    "    train_resampled_s.append(train_resampled)\n",
    "\n",
    "# Concatenate the resampled DataFrames\n",
    "train_balanced = train_resampled_s[0]\n",
    "for df in train_resampled_s[1:]:\n",
    "    train_balanced = train_balanced.union(df)\n",
    "\n",
    "# Build pipeline\n",
    "document_assembler = DocumentAssembler() \\\n",
    "      .setInputCol(\"review_body\") \\\n",
    "      .setOutputCol(\"document\")\n",
    "    \n",
    "tokenizer = Tokenizer() \\\n",
    "      .setInputCols([\"document\"]) \\\n",
    "      .setOutputCol(\"token\")\n",
    "      \n",
    "normalizer = Normalizer() \\\n",
    "      .setInputCols([\"token\"]) \\\n",
    "      .setOutputCol(\"normalized\")\n",
    "\n",
    "stopwords_cleaner = StopWordsCleaner()\\\n",
    "      .setInputCols(\"normalized\")\\\n",
    "      .setOutputCol(\"cleanTokens\")\\\n",
    "      .setCaseSensitive(False)\n",
    "\n",
    "stemmer = Stemmer() \\\n",
    "      .setInputCols([\"cleanTokens\"]) \\\n",
    "      .setOutputCol(\"stem\")\n",
    "\n",
    "finisher = Finisher() \\\n",
    "      .setInputCols([\"stem\"]) \\\n",
    "      .setOutputCols([\"token_features\"]) \\\n",
    "      .setOutputAsArray(True) \\\n",
    "      .setCleanAnnotations(False)\n",
    "\n",
    "countVectors = CountVectorizer(inputCol=\"token_features\", outputCol=\"features\", vocabSize=10000, minDF=5)\n",
    "label_stringIdx = StringIndexer(inputCol = \"product_category\", outputCol = \"label\")\n",
    "\n",
    "nlp_pipeline = Pipeline(\n",
    "    stages=[document_assembler, \n",
    "            tokenizer,\n",
    "            normalizer,\n",
    "            stopwords_cleaner, \n",
    "            stemmer, \n",
    "            finisher,\n",
    "            countVectors,\n",
    "            label_stringIdx])\n",
    "\n",
    "# Fit pipeline\n",
    "nlp_model = nlp_pipeline.fit(train_balanced)\n",
    "train_processed = nlp_model.transform(train_balanced)\n",
    "\n",
    "# Save fitted pipeline\n",
    "nlp_model.write().overwrite().save(\"fitted_pipeline_category\")\n",
    "\n",
    "# Classifier\n",
    "lr = LogisticRegression(maxIter=10, regParam=0.3, elasticNetParam=0)\n",
    "lrModel = lr.fit(train_processed)\n",
    "\n",
    "# Save model\n",
    "lrModel.write().overwrite().save(\"lrmodel_category\")"
   ]
  },
  {
   "attachments": {},
   "cell_type": "markdown",
   "metadata": {},
   "source": [
    "### Section 1B Product category train"
   ]
  },
  {
   "cell_type": "code",
   "execution_count": 2,
   "metadata": {},
   "outputs": [
    {
     "name": "stdout",
     "output_type": "stream",
     "text": [
      "Warning::Spark Session already created, some configs may not take.\n",
      "+----------------+------------------------------+-----+----------+\n",
      "|product_category|                   probability|label|prediction|\n",
      "+----------------+------------------------------+-----+----------+\n",
      "|         grocery|[0.9097008320795131,0.00258...|  0.0|       0.0|\n",
      "|         grocery|[0.9039782737143471,0.00233...|  0.0|       0.0|\n",
      "|         kitchen|[0.8434845370142527,0.00384...| 15.0|       0.0|\n",
      "|         grocery|[0.8066313254284952,0.00527...|  0.0|       0.0|\n",
      "|         grocery|[0.7039215708279097,0.00713...|  0.0|       0.0|\n",
      "|         grocery|[0.6806057564033603,0.00364...|  0.0|       0.0|\n",
      "|         grocery|[0.6179488302940529,0.00483...|  0.0|       0.0|\n",
      "|         grocery|[0.601616216163087,0.013849...|  0.0|       0.0|\n",
      "|           other|[0.582674077413429,0.038993...| 26.0|       0.0|\n",
      "|         grocery|[0.5713643030678055,0.01404...|  0.0|       0.0|\n",
      "+----------------+------------------------------+-----+----------+\n",
      "only showing top 10 rows\n",
      "\n",
      "0.43116192109904516\n"
     ]
    }
   ],
   "source": [
    "# Imports\n",
    "import sparknlp\n",
    "\n",
    "from sparknlp.base import *\n",
    "#from sparknlp.common import *\n",
    "#from sparknlp.annotator import *\n",
    "\n",
    "from pyspark.ml import Pipeline\n",
    "from pyspark.ml.feature import CountVectorizer, HashingTF, IDF, OneHotEncoder, StringIndexer, VectorAssembler, SQLTransformer\n",
    "from pyspark.ml.classification import LogisticRegression, LogisticRegressionModel\n",
    "from pyspark.ml.evaluation import MulticlassClassificationEvaluator\n",
    "#from pyspark.sql.functions import concat,col\n",
    "\n",
    "# Start sparknlp\n",
    "spark = sparknlp.start()\n",
    "\n",
    "# Load dataset\n",
    "test = spark.read.json(\"dataset_en_test.json\")\n",
    "\n",
    "# Load PipelineModel\n",
    "nlp_model = PipelineModel.load(\"fitted_pipeline_category\")\n",
    "\n",
    "# Load LogisticRegressionModel\n",
    "lrModel = LogisticRegressionModel.load(\"lrmodel_category\")\n",
    "\n",
    "# Transform test data\n",
    "test_processed = nlp_model.transform(test)\n",
    "\n",
    "# predict test data\n",
    "predictions = lrModel.transform(test_processed)\n",
    "\n",
    "# Show test data\n",
    "#predictions.filter(predictions['prediction'] == 0) \\\n",
    "#    .select(\"product_category\",\"probability\",\"label\",\"prediction\") \\\n",
    "#    .orderBy(\"probability\", ascending=False) \\\n",
    "#    .show(n = 10, truncate = 30)\n",
    "\n",
    "# Evaluate test data\n",
    "evaluator = MulticlassClassificationEvaluator(predictionCol=\"prediction\")\n",
    "print(evaluator.evaluate(predictions))"
   ]
  },
  {
   "cell_type": "code",
   "execution_count": 3,
   "metadata": {},
   "outputs": [],
   "source": [
    "import pandas as pd\n",
    "df_product_category = predictions.toPandas()"
   ]
  },
  {
   "attachments": {},
   "cell_type": "markdown",
   "metadata": {},
   "source": [
    "### Section 2A Product rating train"
   ]
  },
  {
   "cell_type": "code",
   "execution_count": 4,
   "metadata": {},
   "outputs": [
    {
     "name": "stdout",
     "output_type": "stream",
     "text": [
      "Warning::Spark Session already created, some configs may not take.\n",
      "Spark NLP version, expecting 4.3.1:   4.3.1\n",
      "Apache Spark version, expecting 3.2.3:   3.2.3\n"
     ]
    }
   ],
   "source": [
    "# Imports\n",
    "import sparknlp\n",
    "\n",
    "from sparknlp.base import *\n",
    "from sparknlp.common import *\n",
    "from sparknlp.annotator import *\n",
    "\n",
    "from pyspark.ml import Pipeline\n",
    "from pyspark.ml.feature import CountVectorizer, HashingTF, IDF, OneHotEncoder, StringIndexer, VectorAssembler, SQLTransformer\n",
    "from pyspark.ml.classification import LogisticRegression, LogisticRegressionModel\n",
    "from pyspark.ml.evaluation import MulticlassClassificationEvaluator\n",
    "from pyspark.sql.functions import concat,col\n",
    "\n",
    "# Start sparknlp\n",
    "spark = sparknlp.start()\n",
    "\n",
    "print(\"Spark NLP version, expecting 4.3.1:  \", sparknlp.version())\n",
    "print(\"Apache Spark version, expecting 3.2.3:  \", spark.version)\n",
    "\n",
    "# Load dataset\n",
    "train = spark.read.json(\"dataset_en_train.json\")\n",
    "\n",
    "# Samples per class for rebalancing\n",
    "class_samples = 5000\n",
    "\n",
    "# Resample each class to the size of the class samples with replacement\n",
    "train_resampled_s = []\n",
    "for c in train.select(\"product_category\").distinct().collect():\n",
    "    classDF = train.filter(train[\"product_category\"] == c[0])\n",
    "    train_resampled = classDF.sample(True, class_samples / classDF.count(), seed=42)\n",
    "    train_resampled_s.append(train_resampled)\n",
    "\n",
    "# Concatenate the resampled DataFrames\n",
    "train_balanced = train_resampled_s[0]\n",
    "for df in train_resampled_s[1:]:\n",
    "    train_balanced = train_balanced.union(df)\n",
    "\n",
    "# Build pipeline\n",
    "document_assembler = DocumentAssembler() \\\n",
    "      .setInputCol(\"review_body\") \\\n",
    "      .setOutputCol(\"document\")\n",
    "    \n",
    "tokenizer = Tokenizer() \\\n",
    "      .setInputCols([\"document\"]) \\\n",
    "      .setOutputCol(\"token\")\n",
    "      \n",
    "normalizer = Normalizer() \\\n",
    "      .setInputCols([\"token\"]) \\\n",
    "      .setOutputCol(\"normalized\")\n",
    "\n",
    "stopwords_cleaner = StopWordsCleaner()\\\n",
    "      .setInputCols(\"normalized\")\\\n",
    "      .setOutputCol(\"cleanTokens\")\\\n",
    "      .setCaseSensitive(False)\n",
    "\n",
    "stemmer = Stemmer() \\\n",
    "      .setInputCols([\"cleanTokens\"]) \\\n",
    "      .setOutputCol(\"stem\")\n",
    "\n",
    "finisher = Finisher() \\\n",
    "      .setInputCols([\"stem\"]) \\\n",
    "      .setOutputCols([\"token_features\"]) \\\n",
    "      .setOutputAsArray(True) \\\n",
    "      .setCleanAnnotations(False)\n",
    "\n",
    "countVectors = CountVectorizer(inputCol=\"token_features\", outputCol=\"features\", vocabSize=10000, minDF=5)\n",
    "label_stringIdx = StringIndexer(inputCol = \"stars\", outputCol = \"label\")\n",
    "\n",
    "nlp_pipeline = Pipeline(\n",
    "    stages=[document_assembler, \n",
    "            tokenizer,\n",
    "            normalizer,\n",
    "            stopwords_cleaner, \n",
    "            stemmer, \n",
    "            finisher,\n",
    "            countVectors,\n",
    "            label_stringIdx])\n",
    "\n",
    "# Concat review_title and review_body columns\n",
    "train_rating = train.withColumn(\"review_body\", concat(train.review_title, train.review_body))\n",
    "\n",
    "# Fit pipeline\n",
    "nlp_model = nlp_pipeline.fit(train_rating)\n",
    "train_processed = nlp_model.transform(train_rating)\n",
    "\n",
    "# Save fitted pipeline\n",
    "nlp_model.write().overwrite().save(\"fitted_pipeline_rating\")\n",
    "\n",
    "# Classifier\n",
    "lr = LogisticRegression(maxIter=10, regParam=0.3, elasticNetParam=0)\n",
    "lrModel = lr.fit(train_processed)\n",
    "\n",
    "# Save model\n",
    "lrModel.write().overwrite().save(\"lrmodel_rating\")"
   ]
  },
  {
   "attachments": {},
   "cell_type": "markdown",
   "metadata": {},
   "source": [
    "### Section 2B Product rating predict"
   ]
  },
  {
   "cell_type": "code",
   "execution_count": 5,
   "metadata": {},
   "outputs": [
    {
     "name": "stdout",
     "output_type": "stream",
     "text": [
      "Warning::Spark Session already created, some configs may not take.\n",
      "0.5394661580603644\n"
     ]
    }
   ],
   "source": [
    "# Imports\n",
    "import sparknlp\n",
    "\n",
    "from sparknlp.base import *\n",
    "from sparknlp.common import *\n",
    "from sparknlp.annotator import *\n",
    "\n",
    "from pyspark.ml import Pipeline\n",
    "from pyspark.ml.feature import CountVectorizer, HashingTF, IDF, OneHotEncoder, StringIndexer, VectorAssembler, SQLTransformer\n",
    "from pyspark.ml.classification import LogisticRegression, LogisticRegressionModel\n",
    "from pyspark.ml.evaluation import MulticlassClassificationEvaluator\n",
    "from pyspark.sql.functions import concat,col\n",
    "\n",
    "# Start sparknlp\n",
    "spark = sparknlp.start()\n",
    "\n",
    "# Load dataset\n",
    "test = spark.read.json(\"dataset_en_test.json\")\n",
    "\n",
    "# Load PipelineModel\n",
    "nlp_model = PipelineModel.load(\"fitted_pipeline_rating\")\n",
    "\n",
    "# Load LogisticRegressionModel\n",
    "lrModel = LogisticRegressionModel.load(\"lrmodel_rating\")\n",
    "\n",
    "# Concat review_title and review_body\n",
    "test_rating = test.withColumn(\"review_body\", concat(test.review_title, test.review_body))\n",
    "\n",
    "# Transform test data\n",
    "test_processed = nlp_model.transform(test_rating)\n",
    "\n",
    "# predict test data\n",
    "predictions = lrModel.transform(test_processed)\n",
    "\n",
    "# Show test data\n",
    "#predictions.filter(predictions['prediction'] == 0) \\\n",
    "#    .select(\"review_body\",\"stars\",\"probability\",\"label\",\"prediction\") \\\n",
    "#    .orderBy(\"probability\", ascending=False) \\\n",
    "#    .show(n = 10, truncate = 30)\n",
    "\n",
    "# Evaluate test data\n",
    "evaluator = MulticlassClassificationEvaluator(predictionCol=\"prediction\")\n",
    "print(evaluator.evaluate(predictions))"
   ]
  },
  {
   "cell_type": "code",
   "execution_count": 7,
   "metadata": {},
   "outputs": [],
   "source": [
    "import pandas as pd\n",
    "df_product_rating = predictions.toPandas()"
   ]
  },
  {
   "attachments": {},
   "cell_type": "markdown",
   "metadata": {},
   "source": [
    "### Section 3A Recommendation system train"
   ]
  },
  {
   "cell_type": "code",
   "execution_count": 8,
   "metadata": {},
   "outputs": [
    {
     "name": "stdout",
     "output_type": "stream",
     "text": [
      "Warning::Spark Session already created, some configs may not take.\n",
      "Spark NLP version, expecting 4.3.1:   4.3.1\n",
      "Apache Spark version, expecting 3.2.3:   3.2.3\n"
     ]
    }
   ],
   "source": [
    "# Imports\n",
    "import sparknlp\n",
    "\n",
    "from sparknlp.base import *\n",
    "from sparknlp.common import *\n",
    "from sparknlp.annotator import *\n",
    "\n",
    "from pyspark.ml.feature import StringIndexer\n",
    "from pyspark.sql.functions import concat,col\n",
    "\n",
    "from pyspark.ml.evaluation import RegressionEvaluator\n",
    "from pyspark.ml.recommendation import ALS, ALSModel\n",
    "from pyspark.sql import Row\n",
    "\n",
    "# Start sparknlp\n",
    "spark = sparknlp.start()\n",
    "\n",
    "print(\"Spark NLP version, expecting 4.3.1:  \", sparknlp.version())\n",
    "print(\"Apache Spark version, expecting 3.2.3:  \", spark.version)\n",
    "\n",
    "# Load dataset\n",
    "train = spark.read.json(\"dataset_en_train.json\")\n",
    "\n",
    "# Fit pipeline\n",
    "stringIndexer = StringIndexer(inputCol=\"product_id\", outputCol=\"product_id_int\")\n",
    "nlp_model = stringIndexer.fit(train)\n",
    "train_processed = nlp_model.transform(train)\n",
    "\n",
    "stringIndexer = StringIndexer(inputCol=\"reviewer_id\", outputCol=\"reviewer_id_int\")\n",
    "nlp_model = stringIndexer.fit(train_processed)\n",
    "train_processed = nlp_model.transform(train_processed)\n",
    "\n",
    "train_processed = train_processed.withColumn(\"stars\", col(\"stars\").cast(\"int\"))\n",
    "\n",
    "als = ALS(maxIter=5, regParam=0.01, userCol=\"reviewer_id_int\", itemCol=\"product_id_int\", ratingCol=\"stars\",\n",
    "          coldStartStrategy=\"drop\")\n",
    "model = als.fit(train_processed)\n",
    "\n",
    "# Save model\n",
    "model.write().overwrite().save(\"alsmodel_recommendation\")"
   ]
  },
  {
   "attachments": {},
   "cell_type": "markdown",
   "metadata": {},
   "source": [
    "### Section 3B Recommendation system predict"
   ]
  },
  {
   "cell_type": "code",
   "execution_count": null,
   "metadata": {},
   "outputs": [],
   "source": [
    "# Imports\n",
    "import sparknlp\n",
    "\n",
    "from sparknlp.base import *\n",
    "from sparknlp.common import *\n",
    "from sparknlp.annotator import *\n",
    "\n",
    "from pyspark.ml.feature import StringIndexer\n",
    "from pyspark.sql.functions import concat,col\n",
    "\n",
    "from pyspark.ml.evaluation import RegressionEvaluator\n",
    "from pyspark.ml.recommendation import ALS, ALSModel\n",
    "from pyspark.sql import Row\n",
    "\n",
    "# Start sparknlp\n",
    "spark = sparknlp.start()\n",
    "\n",
    "# Load dataset\n",
    "test = spark.read.json(\"dataset_en_test.json\")\n",
    "\n",
    "stringIndexer = StringIndexer(inputCol=\"product_id\", outputCol=\"product_id_int\")\n",
    "nlp_model = stringIndexer.fit(test)\n",
    "test_processed = nlp_model.transform(test)\n",
    "\n",
    "stringIndexer = StringIndexer(inputCol=\"reviewer_id\", outputCol=\"reviewer_id_int\")\n",
    "nlp_model = stringIndexer.fit(test_processed)\n",
    "test_processed = nlp_model.transform(test_processed)\n",
    "\n",
    "test_processed = test_processed.withColumn(\"stars\", col(\"stars\").cast(\"int\"))\n",
    "\n",
    "#test_processed.groupBy('product_id_int').count().orderBy('count', ascending=False).show(10)\n",
    "\n",
    "# Load ALSModel\n",
    "model = ALSModel.load(\"alsmodel_recommendation\")\n",
    "\n",
    "# Evaluate the model by computing the RMSE on the test data\n",
    "predictions = model.transform(test_processed)\n",
    "\n",
    "# Recommend 5 products for all reviewers\n",
    "userRecs = model.recommendForAllUsers(5)\n",
    "#userRecs.show()"
   ]
  },
  {
   "cell_type": "code",
   "execution_count": 10,
   "metadata": {},
   "outputs": [],
   "source": [
    "import pandas as pd\n",
    "df_product_recommendation = userRecs.toPandas()"
   ]
  },
  {
   "attachments": {},
   "cell_type": "markdown",
   "metadata": {},
   "source": [
    "### Section 4: Data Analytics\n",
    "Insights that were found from the provided dataset as well as the predictive results"
   ]
  },
  {
   "cell_type": "code",
   "execution_count": 11,
   "metadata": {},
   "outputs": [],
   "source": [
    "import pandas as pd\n",
    "from sklearn.metrics import confusion_matrix\n",
    "from sklearn.metrics import classification_report\n",
    "\n",
    "import seaborn as sns\n",
    "import matplotlib.pyplot as plt\n",
    "\n",
    "#pdf = predictions_.toPandas()\n",
    "filtered_df = df_product_category.drop_duplicates(subset=['product_category'])\n",
    "filtered_df = filtered_df.sort_values(by=['label'])"
   ]
  },
  {
   "cell_type": "code",
   "execution_count": 12,
   "metadata": {},
   "outputs": [
    {
     "data": {
      "image/png": "[encoded data removed]",
      "text/plain": [
       "<Figure size 640x480 with 1 Axes>"
      ]
     },
     "metadata": {},
     "output_type": "display_data"
    }
   ],
   "source": [
    "import matplotlib.ticker as mtick\n",
    "\n",
    "# Load dataset\n",
    "df_train = train.toPandas()\n",
    "\n",
    "train_test = pd.concat([df_train['product_category'].value_counts().to_frame('train'), df_product_category['product_category'].value_counts().to_frame('test')], axis=1)\n",
    "train_test['train'] = 100*train_test['train']/train_test['train'].max()\n",
    "train_test['test'] = 100*train_test['test']/train_test['test'].max()\n",
    "\n",
    "ax = train_test.plot(kind='bar')\n",
    "ax.yaxis.set_major_formatter(mtick.PercentFormatter())\n",
    "\n",
    "plt.title('Class distribution in train/test sets')\n",
    "plt.xlabel('Product')\n",
    "plt.ylabel('Percent')\n",
    "plt.show()"
   ]
  },
  {
   "attachments": {},
   "cell_type": "markdown",
   "metadata": {},
   "source": [
    "The classes in the training and test dataset are highly imbalanced, however they follow a similar distribution"
   ]
  },
  {
   "cell_type": "markdown",
   "metadata": {},
   "source": [
    "The classes in the training and test dataset are highly imbalanced, however they follow a similar distribution"
   ]
  },
  {
   "cell_type": "code",
   "execution_count": 13,
   "metadata": {},
   "outputs": [
    {
     "name": "stdout",
     "output_type": "stream",
     "text": [
      "                          precision    recall  f1-score   support\n",
      "\n",
      "                 grocery       0.37      0.74      0.49       115\n",
      "                    book       0.33      0.44      0.37       105\n",
      "                   watch       0.15      0.85      0.26        13\n",
      "personal_care_appliances       0.00      0.00      0.00         2\n",
      "             video_games       0.18      0.50      0.27        30\n",
      "     musical_instruments       0.12      0.32      0.17        25\n",
      "                 luggage       0.16      0.58      0.25        36\n",
      "  digital_video_download       0.36      0.71      0.48        38\n",
      "          office_product       0.31      0.32      0.31       139\n",
      "               drugstore       0.46      0.31      0.37       289\n",
      "     industrial_supplies       0.05      0.12      0.07        64\n",
      "               furniture       0.26      0.61      0.36        62\n",
      "            baby_product       0.32      0.35      0.34        77\n",
      "                   shoes       0.48      0.62      0.54       129\n",
      "                  sports       0.44      0.21      0.29       217\n",
      "                 kitchen       0.57      0.48      0.53       254\n",
      "                  beauty       0.54      0.46      0.50       301\n",
      "              automotive       0.42      0.48      0.45       187\n",
      "  digital_ebook_purchase       0.80      0.75      0.77       173\n",
      "                  camera       0.31      0.48      0.38        54\n",
      "         lawn_and_garden       0.42      0.34      0.37       173\n",
      "             electronics       0.35      0.37      0.36       153\n",
      "                     toy       0.42      0.39      0.40       241\n",
      "                      pc       0.49      0.37      0.42       155\n",
      "                 jewelry       0.21      0.73      0.33        89\n",
      "        home_improvement       0.41      0.37      0.39       183\n",
      "                   other       0.39      0.13      0.20       324\n",
      "            pet_products       0.73      0.62      0.68       168\n",
      "                wireless       0.68      0.51      0.58       374\n",
      "                 apparel       0.64      0.66      0.65       390\n",
      "                    home       0.57      0.20      0.29       440\n",
      "\n",
      "                accuracy                           0.43      5000\n",
      "               macro avg       0.39      0.45      0.38      5000\n",
      "            weighted avg       0.49      0.43      0.43      5000\n",
      "\n"
     ]
    },
    {
     "data": {
      "image/png": "[encoded data removed]",
      "text/plain": [
       "<Figure size 640x480 with 2 Axes>"
      ]
     },
     "metadata": {},
     "output_type": "display_data"
    }
   ],
   "source": [
    "# Print classification report\n",
    "print(classification_report(df_product_category['label'], df_product_category['prediction'], target_names=filtered_df['product_category'].tolist()))\n",
    "\n",
    "# Create the confusion matrix\n",
    "labels = df_product_category['label'].unique()\n",
    "conf_mat = confusion_matrix(df_product_category['label'], df_product_category['prediction'], labels=labels)\n",
    "\n",
    "# Create a heatmap of the confusion matrix\n",
    "ax = plt.subplot()\n",
    "sns.heatmap(conf_mat, fmt='g', ax=ax)\n",
    "\n",
    "# Set the axis labels\n",
    "ax.set_xlabel('Prediction')\n",
    "ax.set_ylabel('True Label')\n",
    "\n",
    "# Set the title\n",
    "ax.set_title('Confusion Matrix Product Category')\n",
    "\n",
    "# Show the plot\n",
    "plt.show()\n"
   ]
  },
  {
   "attachments": {},
   "cell_type": "markdown",
   "metadata": {},
   "source": [
    "The product classifier achieves an f-1 score of 0.43 for all classes on a balanced dataset. For this dataset, the accuracy decreased due to upsampling the minority classes. However, this is still expected to be the right design choice as the classifier would only predict the majority classes on the unbalanced dataset, therefore not scaling well for big data."
   ]
  },
  {
   "cell_type": "code",
   "execution_count": 14,
   "metadata": {},
   "outputs": [
    {
     "name": "stdout",
     "output_type": "stream",
     "text": [
      "              precision    recall  f1-score   support\n",
      "\n",
      "         0.0       0.61      0.71      0.66      1000\n",
      "         1.0       0.49      0.41      0.44      1000\n",
      "         2.0       0.49      0.41      0.44      1000\n",
      "         3.0       0.54      0.45      0.49      1000\n",
      "         4.0       0.58      0.77      0.66      1000\n",
      "\n",
      "    accuracy                           0.55      5000\n",
      "   macro avg       0.54      0.55      0.54      5000\n",
      "weighted avg       0.54      0.55      0.54      5000\n",
      "\n"
     ]
    },
    {
     "data": {
      "image/png": "[encoded data removed]",
      "text/plain": [
       "<Figure size 640x480 with 2 Axes>"
      ]
     },
     "metadata": {},
     "output_type": "display_data"
    }
   ],
   "source": [
    "# Print classification report\n",
    "print(classification_report(df_product_rating['label'], df_product_rating['prediction']))\n",
    "\n",
    "# Create the confusion matrix\n",
    "conf_mat = confusion_matrix(df_product_rating['label'], df_product_rating['prediction'])\n",
    "\n",
    "# Create a heatmap of the confusion matrix\n",
    "ax = plt.subplot()\n",
    "sns.heatmap(conf_mat, fmt='g', ax=ax)\n",
    "\n",
    "# Set the axis labels\n",
    "ax.set_xlabel('Prediction')\n",
    "ax.set_ylabel('True Label')\n",
    "\n",
    "# Set the title\n",
    "ax.set_title('Confusion Matrix Product Rating')\n",
    "\n",
    "# Show the plot\n",
    "plt.show()"
   ]
  },
  {
   "attachments": {},
   "cell_type": "markdown",
   "metadata": {},
   "source": [
    "The product rating classifier achieves and f1-score of 0.54. The prediction is symmetric about the diagonal and similar to human grading, the extreme values 0 and 5 stars show the highest accuracy."
   ]
  },
  {
   "cell_type": "code",
   "execution_count": 15,
   "metadata": {},
   "outputs": [
    {
     "data": {
      "text/html": [
       "<div>\n",
       "<style scoped>\n",
       "    .dataframe tbody tr th:only-of-type {\n",
       "        vertical-align: middle;\n",
       "    }\n",
       "\n",
       "    .dataframe tbody tr th {\n",
       "        vertical-align: top;\n",
       "    }\n",
       "\n",
       "    .dataframe thead th {\n",
       "        text-align: right;\n",
       "    }\n",
       "</style>\n",
       "<table border=\"1\" class=\"dataframe\">\n",
       "  <thead>\n",
       "    <tr style=\"text-align: right;\">\n",
       "      <th></th>\n",
       "      <th>reviewer_id_int</th>\n",
       "      <th>recommendations</th>\n",
       "    </tr>\n",
       "  </thead>\n",
       "  <tbody>\n",
       "    <tr>\n",
       "      <th>0</th>\n",
       "      <td>28</td>\n",
       "      <td>[(876, 6.865847587585449), (1259, 6.4914388656...</td>\n",
       "    </tr>\n",
       "    <tr>\n",
       "      <th>1</th>\n",
       "      <td>31</td>\n",
       "      <td>[(2217, 6.171055793762207), (5619, 5.785284042...</td>\n",
       "    </tr>\n",
       "    <tr>\n",
       "      <th>2</th>\n",
       "      <td>34</td>\n",
       "      <td>[(1052, 6.880202293395996), (8880, 6.096117496...</td>\n",
       "    </tr>\n",
       "    <tr>\n",
       "      <th>3</th>\n",
       "      <td>53</td>\n",
       "      <td>[(6644, 6.060212135314941), (974, 5.8679122924...</td>\n",
       "    </tr>\n",
       "    <tr>\n",
       "      <th>4</th>\n",
       "      <td>65</td>\n",
       "      <td>[(9964, 6.997037887573242), (741, 6.7538666725...</td>\n",
       "    </tr>\n",
       "  </tbody>\n",
       "</table>\n",
       "</div>"
      ],
      "text/plain": [
       "   reviewer_id_int                                    recommendations\n",
       "0               28  [(876, 6.865847587585449), (1259, 6.4914388656...\n",
       "1               31  [(2217, 6.171055793762207), (5619, 5.785284042...\n",
       "2               34  [(1052, 6.880202293395996), (8880, 6.096117496...\n",
       "3               53  [(6644, 6.060212135314941), (974, 5.8679122924...\n",
       "4               65  [(9964, 6.997037887573242), (741, 6.7538666725..."
      ]
     },
     "execution_count": 15,
     "metadata": {},
     "output_type": "execute_result"
    }
   ],
   "source": [
    "df_product_recommendation.head()"
   ]
  },
  {
   "cell_type": "code",
   "execution_count": 16,
   "metadata": {},
   "outputs": [
    {
     "data": {
      "text/plain": [
       "<AxesSubplot: ylabel='Frequency'>"
      ]
     },
     "execution_count": 16,
     "metadata": {},
     "output_type": "execute_result"
    },
    {
     "data": {
      "image/png": "[encoded data removed]",
      "text/plain": [
       "<Figure size 640x480 with 1 Axes>"
      ]
     },
     "metadata": {},
     "output_type": "display_data"
    }
   ],
   "source": [
    "df_product_rec_exp = df_product_recommendation.explode('recommendations')\n",
    "df_product_rec_exp = df_product_rec_exp.explode('recommendations')\n",
    "df_product_rec_exp = df_product_rec_exp.iloc[::2, :]\n",
    "df_product_rec_exp['recommendations'].plot.hist(bins=100)"
   ]
  },
  {
   "attachments": {},
   "cell_type": "markdown",
   "metadata": {},
   "source": [
    "The following plot shows the product_id distribution of the top5 recommended products for the test dataset, where the x-axis is the numerical product id"
   ]
  },
  {
   "cell_type": "code",
   "execution_count": 17,
   "metadata": {},
   "outputs": [
    {
     "name": "stdout",
     "output_type": "stream",
     "text": [
      "+--------------------+-----+\n",
      "|    product_category|count|\n",
      "+--------------------+-----+\n",
      "|                home|  440|\n",
      "|             apparel|  390|\n",
      "|            wireless|  374|\n",
      "|               other|  324|\n",
      "|              beauty|  301|\n",
      "|           drugstore|  289|\n",
      "|             kitchen|  254|\n",
      "|                 toy|  241|\n",
      "|              sports|  217|\n",
      "|          automotive|  187|\n",
      "|    home_improvement|  183|\n",
      "|digital_ebook_pur...|  173|\n",
      "|     lawn_and_garden|  173|\n",
      "|        pet_products|  168|\n",
      "|                  pc|  155|\n",
      "|         electronics|  153|\n",
      "|      office_product|  139|\n",
      "|               shoes|  129|\n",
      "|             grocery|  115|\n",
      "|                book|  105|\n",
      "|             jewelry|   89|\n",
      "|        baby_product|   77|\n",
      "| industrial_supplies|   64|\n",
      "|           furniture|   62|\n",
      "|              camera|   54|\n",
      "|digital_video_dow...|   38|\n",
      "|             luggage|   36|\n",
      "|         video_games|   30|\n",
      "| musical_instruments|   25|\n",
      "|               watch|   13|\n",
      "|personal_care_app...|    2|\n",
      "+--------------------+-----+\n",
      "\n"
     ]
    }
   ],
   "source": [
    "from pyspark.sql.functions import col\n",
    "test.groupBy(\"product_category\") \\\n",
    "    .count() \\\n",
    "    .orderBy(col(\"count\").desc()) \\\n",
    "    .show(40)"
   ]
  }
 ],
 "metadata": {
  "kernelspec": {
   "display_name": "tpg2",
   "language": "python",
   "name": "python3"
  },
  "language_info": {
   "codemirror_mode": {
    "name": "ipython",
    "version": 3
   },
   "file_extension": ".py",
   "mimetype": "text/x-python",
   "name": "python",
   "nbconvert_exporter": "python",
   "pygments_lexer": "ipython3",
   "version": "3.10.9"
  },
  "orig_nbformat": 4
 },
 "nbformat": 4,
 "nbformat_minor": 2
}
